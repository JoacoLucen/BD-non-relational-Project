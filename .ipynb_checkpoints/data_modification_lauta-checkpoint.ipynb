{
 "cells": [
  {
   "cell_type": "markdown",
   "id": "2dc61c68-0534-4eef-b24c-90dacc2f5776",
   "metadata": {},
   "source": [
    "PARTE JOACO"
   ]
  },
  {
   "cell_type": "code",
   "execution_count": null,
   "id": "9e8b11ff-e46a-4357-8f2e-2fa6f68eb667",
   "metadata": {},
   "outputs": [],
   "source": []
  },
  {
   "cell_type": "markdown",
   "id": "6d362522-8ddb-470f-8f62-e8a838e81fda",
   "metadata": {},
   "source": [
    "PARTE LAUTA"
   ]
  },
  {
   "cell_type": "code",
   "execution_count": null,
   "id": "5b69b4e9-166e-44f9-b016-5d700ca89445",
   "metadata": {},
   "outputs": [],
   "source": []
  }
 ],
 "metadata": {
  "kernelspec": {
   "display_name": "Python 3 (ipykernel)",
   "language": "python",
   "name": "python3"
  },
  "language_info": {
   "codemirror_mode": {
    "name": "ipython",
    "version": 3
   },
   "file_extension": ".py",
   "mimetype": "text/x-python",
   "name": "python",
   "nbconvert_exporter": "python",
   "pygments_lexer": "ipython3",
   "version": "3.11.13"
  }
 },
 "nbformat": 4,
 "nbformat_minor": 5
}
