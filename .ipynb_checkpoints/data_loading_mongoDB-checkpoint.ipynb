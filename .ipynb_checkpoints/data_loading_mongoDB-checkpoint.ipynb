{
 "cells": [
  {
   "cell_type": "code",
   "execution_count": null,
   "id": "e259868c",
   "metadata": {},
   "outputs": [
    {
     "ename": "",
     "evalue": "",
     "output_type": "error",
     "traceback": [
      "\u001b[1;31mRunning cells with 'Python 3.12.10' requires the ipykernel package.\n",
      "\u001b[1;31m<a href='command:jupyter.createPythonEnvAndSelectController'>Create a Python Environment</a> with the required packages.\n",
      "\u001b[1;31mOr install 'ipykernel' using the command: 'c:/Users/joaco/AppData/Local/Programs/Python/Python312/python.exe -m pip install ipykernel -U --user --force-reinstall'"
     ]
    }
   ],
   "source": [
    "#Función para generar un número aleatorio de 8 dígitos\n",
    "function generateDNI():\n",
    "    {\n",
    "        return Math.floor(10000000 + Math.random() * 90000000).toString();\n",
    "    }\n",
    "\n",
    "#Función para seleccionar un elemento aleatorio de un array\n",
    "function getRandom(array) {\n",
    "    return array[Math.floor(Math.random() * array.length)];\n",
    "}\n",
    "\n",
    "#Listas de datos para generar variedad\n",
    "names = [\"Juan\", \"María\", \"Carlos\", \"Ana\", \"Pedro\", \"Sofía\", \"Pablo\", \"Laura\", \"Diego\", \"Valeria\", \"Gael\", \"Emilia\", \"Facundo\", \"Catalina\", \"Lucas\", \"Julieta\", \"Martín\", \"Valentina\", \"Mateo\", \"Camila\"];\n",
    "lastNames = [\"Gómez\", \"Rodríguez\", \"Fernández\", \"López\", \"Martínez\", \"Díaz\", \"Pérez\", \"González\", \"Sánchez\", \"Romero\", \"Alvarez\", \"Ruiz\", \"Torres\", \"Flores\", \"Benítez\"];\n",
    "cities = [\"Buenos Aires\", \"Córdoba\", \"Rosario\", \"Mendoza\", \"Tucumán\", \"La Plata\", \"Mar del Plata\", \"Salta\", \"Santa Fe\", \"Corrientes\", \"Neuquén\", \"Bahía Blanca\"];\n",
    "\n",
    "users = [];\n",
    "\n",
    "#Generar 50 documentos con ID de 1 a 50\n",
    "for (let i = 1; i <= 50; i++) {\n",
    "    const age = Math.floor(Math.random() * (60 - 18 + 1)) + 18; // Edad entre 18 y 60\n",
    "    const areaCode = Math.floor(Math.random() * (999 - 100 + 1)) + 100; // Código de área ficticio\n",
    "    const phoneNum = Math.floor(1000000 + Math.random() * 9000000).toString(); // Número de 7 dígitos\n",
    "\n",
    "    users.push({\n",
    "        \"id\": i,\n",
    "        \"name\": getRandom(names),\n",
    "        \"last_name\": getRandom(lastNames),\n",
    "        \"age\": age,\n",
    "        \"DNI\": generateDNI(),\n",
    "        \"city\": getRandom(cities),\n",
    "        \"phone\": `+549${areaCode}${phoneNum}` // Formato de teléfono argentino\n",
    "    });\n",
    "}\n",
    "\n",
    "// Insertar los 50 documentos\n",
    "db.users.insert_many(users);\n",
    "print(`Se han insertado ${users.length} usuarios en la colección 'users'.`);"
   ]
  },
  {
   "cell_type": "code",
   "execution_count": null,
   "id": "a6927124",
   "metadata": {},
   "outputs": [],
   "source": []
  }
 ],
 "metadata": {
  "kernelspec": {
   "display_name": "Python 3",
   "language": "python",
   "name": "python3"
  },
  "language_info": {
   "name": "python",
   "version": "3.12.10"
  }
 },
 "nbformat": 4,
 "nbformat_minor": 5
}
