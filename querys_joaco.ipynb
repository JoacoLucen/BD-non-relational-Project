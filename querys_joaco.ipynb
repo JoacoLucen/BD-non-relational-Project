{
 "cells": [
  {
   "cell_type": "markdown",
   "id": "3b42da4f-35f0-4804-9544-730386ee8810",
   "metadata": {},
   "source": [
    "PARTE JOACO"
   ]
  },
  {
   "cell_type": "code",
   "execution_count": null,
   "id": "d0769fef-e6d0-4eca-9730-6c8c61d1d8ec",
   "metadata": {},
   "outputs": [],
   "source": []
  },
  {
   "cell_type": "markdown",
   "id": "8d7d8521-fb51-4ccb-90fb-22a2703d01c1",
   "metadata": {},
   "source": [
    "PARTE LAUTA"
   ]
  },
  {
   "cell_type": "code",
   "execution_count": null,
   "id": "a57425d6-582d-4544-bf64-216879d1cb43",
   "metadata": {},
   "outputs": [],
   "source": []
  }
 ],
 "metadata": {
  "kernelspec": {
   "display_name": "Python 3 (ipykernel)",
   "language": "python",
   "name": "python3"
  },
  "language_info": {
   "codemirror_mode": {
    "name": "ipython",
    "version": 3
   },
   "file_extension": ".py",
   "mimetype": "text/x-python",
   "name": "python",
   "nbconvert_exporter": "python",
   "pygments_lexer": "ipython3",
   "version": "3.11.13"
  }
 },
 "nbformat": 4,
 "nbformat_minor": 5
}
