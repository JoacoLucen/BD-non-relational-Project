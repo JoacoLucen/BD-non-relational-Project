{
 "cells": [
  {
   "cell_type": "markdown",
   "id": "6d362522-8ddb-470f-8f62-e8a838e81fda",
   "metadata": {},
   "source": [
    "PARTE LAUTA"
   ]
  },
  {
   "cell_type": "code",
   "execution_count": null,
   "id": "5b69b4e9-166e-44f9-b016-5d700ca89445",
   "metadata": {},
   "outputs": [],
   "source": []
  }
 ],
 "metadata": {
  "kernelspec": {
   "display_name": "Python 3 (ipykernel)",
   "language": "python",
   "name": "python3"
  },
  "language_info": {
   "codemirror_mode": {
    "name": "ipython",
    "version": 3
   },
   "file_extension": ".py",
   "mimetype": "text/x-python",
   "name": "python",
   "nbconvert_exporter": "python",
   "pygments_lexer": "ipython3",
   "version": "3.11.13"
  }
 },
 "nbformat": 4,
 "nbformat_minor": 5
}
