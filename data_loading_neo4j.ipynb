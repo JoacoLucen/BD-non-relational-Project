{
 "cells": [
  {
   "cell_type": "code",
   "execution_count": 1,
   "id": "ac77da3d-929d-4303-a07d-e176c038a52a",
   "metadata": {},
   "outputs": [],
   "source": [
    "from neo4j import GraphDatabase\n",
    "driver = GraphDatabase.driver(\"bolt://neo4j:7687\", auth=(\"neo4j\", \"neo4j123\"))"
   ]
  },
  {
   "cell_type": "code",
   "execution_count": null,
   "id": "5d44e33e-e745-4443-b2cf-6e26d8dd28d0",
   "metadata": {},
   "outputs": [],
   "source": []
  }
 ],
 "metadata": {
  "kernelspec": {
   "display_name": "Python 3 (ipykernel)",
   "language": "python",
   "name": "python3"
  },
  "language_info": {
   "codemirror_mode": {
    "name": "ipython",
    "version": 3
   },
   "file_extension": ".py",
   "mimetype": "text/x-python",
   "name": "python",
   "nbconvert_exporter": "python",
   "pygments_lexer": "ipython3",
   "version": "3.11.13"
  }
 },
 "nbformat": 4,
 "nbformat_minor": 5
}
